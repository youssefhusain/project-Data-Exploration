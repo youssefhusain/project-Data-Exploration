{
 "cells": [
  {
   "cell_type": "markdown",
   "metadata": {},
   "source": [
    "# Web Scraping Data from Kolabtree\n",
    "\n",
    "## Overview\n",
    "This script scrapes expert data from Kolabtree, collecting multiple pages in a single run.\n",
    "\n",
    "## XPath Expressions\n",
    "\n",
    "| **Data Field**   | **XPath Expression** |\n",
    "|------------------|----------------------|\n",
    "| **Name**        | `//div[contains(@class, 'update-name')]` |\n",
    "| **Title**       | `//div[contains(@class, 'headline-text')]` |\n",
    "| **Location**    | `//div[contains(@class, 'locationc')]` |\n",
    "| **Profile Link** | `//a[contains(@class, 'text-btn')]` |\n",
    "| **Rating**      | `//div[contains(@class, 'fill-ratings')]/span` |\n",
    "| **Price**       | `//div[contains(@class, 'price-box')]/strong[2]` |\n",
    "| **Degree**      | `//span[contains(text(), 'Doctor of Science - Epidemiology')]` |\n",
    "| **Next Page Button** | `//a[contains(text(), '>')]` |\n"
   ]
  },
  {
   "cell_type": "code",
   "execution_count": 5,
   "metadata": {},
   "outputs": [],
   "source": [
    "from selenium import webdriver\n",
    "from selenium.webdriver.chrome.service import Service\n",
    "from selenium.webdriver.common.by import By\n",
    "from selenium.webdriver.common.keys import Keys\n",
    "from selenium.webdriver.chrome.options import Options\n",
    "import pandas as pd\n",
    "from webdriver_manager.chrome import ChromeDriverManager\n",
    "from selenium.webdriver.support.ui import WebDriverWait\n",
    "from selenium.webdriver.support import expected_conditions as EC\n",
    "from selenium.common.exceptions import NoSuchElementException\n",
    "from selenium.common.exceptions import NoSuchElementException, TimeoutException\n",
    "\n",
    "import time\n",
    "import csv\n"
   ]
  },
  {
   "cell_type": "code",
   "execution_count": 12,
   "metadata": {},
   "outputs": [],
   "source": [
    "options = Options()\n",
    "options.add_argument(\"--headless\") \n",
    "driver = webdriver.Chrome()\n",
    "\n",
    "\n"
   ]
  },
  {
   "cell_type": "code",
   "execution_count": 17,
   "metadata": {},
   "outputs": [],
   "source": [
    "url = \"https://www.kolabtree.com/find-an-expert\"\n",
    "driver.get(url)"
   ]
  },
  {
   "cell_type": "code",
   "execution_count": null,
   "metadata": {},
   "outputs": [],
   "source": [
    "data = []"
   ]
  },
  {
   "cell_type": "code",
   "execution_count": null,
   "metadata": {},
   "outputs": [],
   "source": [
    "\n",
    "page_count = 0\n",
    "max_pages = 200\n",
    "\n",
    "while page_count < max_pages:\n",
    "    try:\n",
    "        WebDriverWait(driver, 10).until(\n",
    "            EC.presence_of_all_elements_located((By.CLASS_NAME, \"box.expert-tiles\"))\n",
    "        )\n",
    "\n",
    "        elements = driver.find_elements(By.CLASS_NAME, \"box.expert-tiles\")\n",
    "\n",
    "        for el in elements:\n",
    "            try:\n",
    "                name = el.find_element(By.CLASS_NAME, \"update-name\").text.strip()\n",
    "            except NoSuchElementException:\n",
    "                name = \"N/A\"\n",
    "\n",
    "            try:\n",
    "                title = el.find_element(By.CLASS_NAME, \"headline-text\").text.strip()\n",
    "            except NoSuchElementException:\n",
    "                title = \"N/A\"\n",
    "\n",
    "            try:\n",
    "                location = el.find_element(By.CLASS_NAME, \"locationc\").text.strip()\n",
    "            except NoSuchElementException:\n",
    "                location = \"N/A\"\n",
    "\n",
    "            try:\n",
    "                profile_link = el.find_element(By.CLASS_NAME, \"text-btn\").get_attribute(\"href\")\n",
    "            except NoSuchElementException:\n",
    "                profile_link = \"N/A\"\n",
    "\n",
    "            try:\n",
    "                rating_element = el.find_element(By.CLASS_NAME, \"fill-ratings\")\n",
    "                rating = rating_element.find_element(By.TAG_NAME, \"span\").text.strip()\n",
    "            except NoSuchElementException:\n",
    "                rating = \"N/A\"\n",
    "\n",
    "            try:\n",
    "                price_element = el.find_element(By.CLASS_NAME, \"price-box\")\n",
    "                currency = price_element.find_element(By.CLASS_NAME, \"currncy\").text.strip()\n",
    "                amount = price_element.find_elements(By.TAG_NAME, \"strong\")[1].text.strip()\n",
    "                price = f\"{currency} {amount}/hr\"\n",
    "            except NoSuchElementException:\n",
    "                price = \"N/A\"\n",
    "\n",
    "            try:\n",
    "                degree = el.find_element(By.XPATH, \"//span[contains(text(), 'Doctor of Science - Epidemiology')]\").text.strip()\n",
    "            except NoSuchElementException:\n",
    "                degree = \"N/A\"\n",
    "\n",
    "            data.append({\n",
    "                \"Name\": name,\n",
    "                \"Title\": title,\n",
    "                \"Location\": location,\n",
    "                \"Profile Link\": profile_link,\n",
    "                \"Rating\": rating,\n",
    "                \"Price\": price,\n",
    "                \"Degree\": degree\n",
    "            })\n",
    "\n",
    "        try:\n",
    "            next_button = driver.find_element(By.XPATH, \"//a[contains(text(), '>')]\")\n",
    "            driver.execute_script(\"arguments[0].click();\", next_button)\n",
    "            time.sleep(10)\n",
    "            page_count += 1\n",
    "            \n",
    "        except NoSuchElementException:\n",
    "            break\n",
    "        time.sleep(10)\n",
    "\n",
    "    except TimeoutException:\n",
    "        break\n",
    "\n",
    "df = pd.DataFrame(data)\n",
    "df.to_csv(\"kolabtree data.csv\", index=False, encoding=\"utf-8\")\n",
    "\n",
    "\n"
   ]
  },
  {
   "cell_type": "code",
   "execution_count": 23,
   "metadata": {},
   "outputs": [
    {
     "data": {
      "text/plain": [
       "341.0"
      ]
     },
     "execution_count": 23,
     "metadata": {},
     "output_type": "execute_result"
    }
   ],
   "source": [
    "len(data)/7"
   ]
  },
  {
   "cell_type": "code",
   "execution_count": 44,
   "metadata": {},
   "outputs": [],
   "source": [
    "driver.quit()"
   ]
  },
  {
   "cell_type": "code",
   "execution_count": null,
   "metadata": {},
   "outputs": [],
   "source": []
  }
 ],
 "metadata": {
  "kernelspec": {
   "display_name": "Python 3",
   "language": "python",
   "name": "python3"
  },
  "language_info": {
   "codemirror_mode": {
    "name": "ipython",
    "version": 3
   },
   "file_extension": ".py",
   "mimetype": "text/x-python",
   "name": "python",
   "nbconvert_exporter": "python",
   "pygments_lexer": "ipython3",
   "version": "3.10.0"
  }
 },
 "nbformat": 4,
 "nbformat_minor": 2
}
