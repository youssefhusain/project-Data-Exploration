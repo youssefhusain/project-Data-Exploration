{
 "cells": [
  {
   "cell_type": "markdown",
   "metadata": {},
   "source": [
    "# Scraping Freelancer Data\n",
    "\n",
    "## Overview\n",
    "This notebook extracts data related to **freelancers**, including their **name**, **salary**, **country**, and **level image**.\n",
    "\n",
    "## Extracted Information\n",
    "- **Freelancer Name**: The full name of the freelancer.\n",
    "- **Hourly Rate**: The freelancer's rate per hour.\n",
    "- **Country**: The freelancer's location.\n",
    "- **Level Image**: A graphical representation of the freelancer's experience level.\n",
    "\n",
    "## Visualization\n",
    "Below is an example representation of a freelancer's level image:\n",
    "\n",
    "![Freelancer Level](img/name.png)\n"
   ]
  },
  {
   "cell_type": "code",
   "execution_count": 5,
   "metadata": {},
   "outputs": [
    {
     "name": "stdout",
     "output_type": "stream",
     "text": [
      "nmper : 10\n",
      "{'name': 'Md I.', 'price': '$6', 'image': 'https://www.f-cdn.com/assets/img/membership/badges/a-membership-level-4-badge-2c40b8bf.svg', 'country': 'Bangladesh'}\n",
      "{'name': 'Doaa Y.', 'price': '$10', 'image': 'https://www.f-cdn.com/assets/img/membership/badges/a-membership-level-3-badge-8317af01.svg', 'country': 'Egypt'}\n",
      "{'name': 'Rabbia H.', 'price': '$30', 'image': 'https://www.f-cdn.com/assets/img/membership/badges/m-membership-level-3-badge-e5b685ec.svg', 'country': 'Pakistan'}\n",
      "{'name': 'Sergiu L.', 'price': '$60', 'image': 'https://www.f-cdn.com/assets/img/membership/badges/a-membership-level-3-badge-8317af01.svg', 'country': 'Romania'}\n",
      "{'name': 'Hafiz Talha A.', 'price': '$35', 'image': 'https://www.f-cdn.com/assets/img/membership/badges/a-membership-level-5-badge-5a58886e.svg', 'country': 'Australia'}\n",
      "{'name': 'Nishant K.', 'price': '$10', 'image': 'https://www.f-cdn.com/assets/img/membership/badges/m-membership-level-3-badge-e5b685ec.svg', 'country': 'India'}\n",
      "{'name': 'Jewel K.', 'price': '$7', 'image': 'https://www.f-cdn.com/assets/img/membership/badges/a-membership-level-3-badge-8317af01.svg', 'country': 'Bangladesh'}\n",
      "{'name': 'Nurjahan S.', 'price': '$10', 'image': 'https://www.f-cdn.com/assets/img/membership/badges/m-membership-level-3-badge-e5b685ec.svg', 'country': 'Bangladesh'}\n",
      "{'name': 'Rahul -.', 'price': '$100', 'image': 'https://www.f-cdn.com/assets/img/membership/badges/m-membership-level-3-badge-e5b685ec.svg', 'country': 'Pakistan'}\n",
      "{'name': 'Deyaa A.', 'price': '$15', 'image': 'https://www.f-cdn.com/assets/img/membership/badges/a-membership-level-2-badge-42d87231.svg', 'country': 'Egypt'}\n"
     ]
    }
   ],
   "source": [
    "elements = driver.find_elements(By.XPATH, \"//li[contains(@class, 'search-result-item search-result-item--user')]\")\n",
    "print(f\"nmper : {len(elements)}\")\n",
    "users = []\n",
    "for item in elements:\n",
    "    try:\n",
    "        price = item.find_element(By.XPATH, \".//div[contains(@class, 'info-card-price')]\").text.strip()\n",
    "    except:\n",
    "        price = \"N/A\"\n",
    "\n",
    "    try:\n",
    "        name = item.find_element(By.XPATH, \".//h2[contains(@class, 'info-card-title')]\").text.strip()\n",
    "    except:\n",
    "        name = \"N/A\"\n",
    "\n",
    "    try:\n",
    "        img = item.find_element(By.XPATH, \".//img[contains(@class, 'PageSearch-membershipBadge')]\").get_attribute(\"src\")\n",
    "    except:\n",
    "        img = \"N/A\"\n",
    "\n",
    "    try:\n",
    "        country = item.find_element(By.XPATH, \".//span[contains(@class, 'info-card-location')]\").text.strip()\n",
    "    except:\n",
    "        country = \"N/A\"\n",
    "\n",
    "    users.append({\"name\": name, \"price\": price, \"image\": img, \"country\": country})\n",
    "\n",
    "\n",
    "for user in users:\n",
    "    print(user)"
   ]
  }
 ],
 "metadata": {
  "kernelspec": {
   "display_name": "Python 3",
   "language": "python",
   "name": "python3"
  },
  "language_info": {
   "codemirror_mode": {
    "name": "ipython",
    "version": 3
   },
   "file_extension": ".py",
   "mimetype": "text/x-python",
   "name": "python",
   "nbconvert_exporter": "python",
   "pygments_lexer": "ipython3",
   "version": "3.10.0"
  }
 },
 "nbformat": 4,
 "nbformat_minor": 2
}
