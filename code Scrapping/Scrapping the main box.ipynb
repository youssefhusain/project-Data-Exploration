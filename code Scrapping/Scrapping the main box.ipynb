{
 "cells": [
  {
   "cell_type": "markdown",
   "metadata": {},
   "source": [
    "# Scraping the Main Box\n",
    "\n",
    "## In this Notebook\n",
    "This notebook will guide you through the process of scraping user data from Freelancer.\n",
    "\n",
    "### Steps Included:\n",
    "1. **Log in to Freelancer**: Ensure you have an account and are logged in.\n",
    "2. **Access User Data**: Navigate to the main page containing user data.\n",
    "3. **Scrape Data**: Extract the main border that contains all data about every user.\n",
    "\n",
    "### Detailed Instructions\n",
    "\n",
    "#### 1. Log in to Freelancer\n",
    "- Go to [Freelancer](https://www.freelancer.com/).\n",
    "- Enter your credentials to log in.\n",
    "\n",
    "#### 2. Access User Data\n",
    "- After logging in, navigate to [the search page](https://www.freelancer.com/search/users/data_entry/) that lists users with data entry skills.\n",
    "- You should see a main box containing profiles of \n",
    "![The main box](img/the_main_box.png)\n"
   ]
  },
  {
   "cell_type": "code",
   "execution_count": 2,
   "metadata": {},
   "outputs": [],
   "source": [
    "from selenium import webdriver\n",
    "from selenium.webdriver.common.by import By\n",
    "from selenium.webdriver.chrome.service import Service\n",
    "from webdriver_manager.chrome import ChromeDriverManager\n",
    "from selenium.webdriver.common.keys import Keys"
   ]
  },
  {
   "cell_type": "code",
   "execution_count": 3,
   "metadata": {},
   "outputs": [],
   "source": [
    "options = webdriver.ChromeOptions()\n",
    "driver = webdriver.Chrome(service=Service(ChromeDriverManager().install()), options=options)\n",
    "url = \"https://www.freelancer.com/login\"\n",
    "driver.get(url)\n",
    "email_input = driver.find_element(By.ID, \"emailOrUsernameInput\")\n",
    "password_input = driver.find_element(By.ID, \"passwordInput\")\n",
    "email_input.send_keys(\"youssef.h.alghamry@gmail.com\")\n",
    "password_input.send_keys(\"youssef123@20\")\n",
    "password_input.send_keys(Keys.RETURN)"
   ]
  },
  {
   "cell_type": "code",
   "execution_count": 4,
   "metadata": {},
   "outputs": [],
   "source": [
    "url = \"https://www.freelancer.com/search/users/data_entry/\"\n",
    "driver.get(url)"
   ]
  },
  {
   "cell_type": "code",
   "execution_count": 8,
   "metadata": {},
   "outputs": [
    {
     "name": "stdout",
     "output_type": "stream",
     "text": [
      " 10 Freelancer\n"
     ]
    }
   ],
   "source": [
    "elements = driver.find_elements(By.XPATH, \"//li[contains(@class, 'search-result-item search-result-item--user')]\")\n",
    "print(f\" {len(elements)} Freelancer\")"
   ]
  },
  {
   "cell_type": "markdown",
   "metadata": {},
   "source": [
    "![The main box](img/numpe10f.png)"
   ]
  }
 ],
 "metadata": {
  "kernelspec": {
   "display_name": "Python 3",
   "language": "python",
   "name": "python3"
  },
  "language_info": {
   "codemirror_mode": {
    "name": "ipython",
    "version": 3
   },
   "file_extension": ".py",
   "mimetype": "text/x-python",
   "name": "python",
   "nbconvert_exporter": "python",
   "pygments_lexer": "ipython3",
   "version": "3.10.0"
  }
 },
 "nbformat": 4,
 "nbformat_minor": 2
}
