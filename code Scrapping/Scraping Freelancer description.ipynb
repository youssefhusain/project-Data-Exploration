{
 "cells": [
  {
   "cell_type": "code",
   "execution_count": null,
   "metadata": {},
   "outputs": [
    {
     "name": "stdout",
     "output_type": "stream",
     "text": [
      "nmper : 10\n",
      "{'description': \"Welcome! I'm a self-disciplined and reliable freelancer, dedicated to putting clients first. With a sharp eye for detail and flexibility, I prioritize your goals for every project. Challenges excite me, and as an organized expert, I ensure timely completion of all tasks. I can assist you with: ✅Data Entry ✅Web Scraping (Google Map, Yelp, Yellowpages, TripAdvisor, BBB, DnB) ✅B2B Email List Creation (Linkedin, Appllo, Zoominfo) ✅Prospects List Building ✅Web Search ✅Data Mining ✅Web Search ✅ Product Upload (eBay, Amazon, WordPress, Shopify, eCommerce)\", 'skills': 'Data EntryWeb ScrapingWeb SearchData MiningVirtual Assistant', 'rating': '4.9', 'reviews': '1045'} \n",
      "\n",
      "{'description': 'Hey! My name is Hafiz Talha, and I am from Perth, Australia. With a strategic and goal-oriented approach, I consistently work with the end goal in mind. Over the course of 7 years, I have been dedicated to creating distinctive, interactive, and aesthetically pleasing designs, catering to clients and companies across the globe. Key Differentiators: Unique logo design concepts tailored to your requirements. Innovative and professional business cards and stationery designs. Conceptualization of visually captivating banners, brochures, posters, and flyers. Proficient in converting JPG to Vector and PDF to Vector formats. Comprehensive assistance throughout the project, from pre- to post-implementation. Dedicated 24x7 premium support. Multiple revisions provided until your complete satisfaction. Exclusive designs crafted specifically for your project, ensuring originality. Lets Connect! logo designer, logo design & branding, brand identity, branding, graphic designer, logo design, illustrator, graphic design, logo Animation, logo branding, logo creation, Graphic design logo, logo design graphic design, brand identity, Logo, minimalist logo projects, logo design services, logo designing, Brand Logo Design, logo design and branding, logo development, PowerPoint Presentation, Presentation design, Presentation, PPT, Pitch Deck, Sales Deck, Design, Flyer Design, brochure design, print media, illustration, custom illustration, illustration design, childrenbook, adobe illustrator, adobe photoshop, adobe indesign, eBook, Amazon KDP, Prezi, Google Slides, Children book illustration, Book cover design, Book Cover, Book design, Word, Pdf', 'skills': 'Graphic DesignLogo DesignPhotoshopIllustratorData Entry', 'rating': '5.0', 'reviews': '101'} \n",
      "\n",
      "{'description': 'الله اكبر بِسْمِ ٱللَّٰهِ ٱلرَّحْمَٰنِ ٱلرَّحِيمِ ✅✌My Service✌✅ ---------------------------------------------------------------------- ✅Product listing in any e-commerce platform (such as eBay, Amazon, Shopify, WordPress, Onbuy, Etsy, Alibaba, Poshmark, Wix, Facebook Marketplace & etc). ✌ ✅Customer support & Virtual Assistant ✌ ✅Video & Audio to Text Transcribe (English To English) ✌ ✅Social Media Management & (Posting). ✌ ✅Photo Background Remover & Editing Expert. ✌ ✅Simple Web Research, Web Scraping, Web Search (etc) (Not advanced Label & not python). ✌ ✅All Subject Data Entry. ✌ ✅All Subject Copy Typing. ✌ ✅All Subject Email Marketing. ✌ ✅Excel & PDF to word convert Expert (etc). ✌ NOTE: Also, I can do any related work if you show it once.', 'skills': 'ExcelData EntryResearchInternet ResearchAmazon', 'rating': '5.0', 'reviews': '100'} \n",
      "\n",
      "{'description': \"My name is Claudia. I have been doing freelance work for 10+ years now. I take my work seriously. I am the best at what i do. When it comes to price, time and accuracy, you can count on me. I am efficient, accurate and fast. Even if there are issues, i'm always ready to correct them until you are satisfied. I am always ready to learn new things too. You can reach out to me when you have any project which requires these skills: Lead Generation Searching for business emails of any contact. C-level contacts (CEO, CFO, President, etc.) All are 100% VERIFIED. Leads generated from Linkedin sales navigator Web Scraping Collecting data from any website by automation. Yellowpages of any country, yelp, justdial, etc Data entry Proofreading Transcription Excel PDF to Excel PDF to Word I can always provide samples of my work when needed. I look forward to hearing from you.\", 'skills': 'ExcelData EntryWeb SearchWeb ScrapingLeads', 'rating': '5.0', 'reviews': '110'} \n",
      "\n",
      "{'description': 'Hello and welcome to my profile! I’m enthusiastic about taking on new challenges and can adapt to any job as long as you can provide clear instructions or training materials. I’m a quick learner with a positive attitude and a strong commitment to doing great work. I’m available for full-time positions and am dedicated to long-term roles. My skills: ✓ Typing speed of 45 words per minute ✓ Exceptional attention to detail ✓ Highly organized and proactive ✓ Comfortable working independently or as part of a team ✓ Skilled at following instructions and identifying solutions ✓ Reliable, flexible, and punctual ✓ Strong communication and listening skills My experience includes: - Data Entry - Web Research - Business Information Collection - Admin Support - Virtual Assistance - Creating and Sending Invoices - Customer Service and Support (Email, Ticket, Chat) I’m proficient with: - Microsoft Office Suite (Word, Excel, PowerPoint, PDF) - Google Workspace (Docs, Sheets, Slides) - Communication Tools (WhatsApp, WeChat, Skype, Slack, Discord) - Project Management Tools (Dropbox, Asana, Trello, Todoist, Monday) - Customer Support Platforms (Zendesk, Gorgias, Freshdesk) - E-commerce Platforms (WordPress, Woo-commerce, AliExpress, Etsy, Shopify, 3dcart, Magento, Amazon, eBay) I’m available to work up to 40 hours a week, Monday through Friday, or on weekends if needed. Thank you for checking out my profile!', 'skills': 'Data EntryCustomer SupportCustomer ServiceData ProcessingExcel', 'rating': '4.9', 'reviews': '71'} \n",
      "\n",
      "{'description': 'I am available 24X7 via freelancer messenger. Expert in a Particular Subject ! Data Entry ! Manual Data Entry ! Pdf to Excel & Word Conversion ! Copy Typing ! Web Search ! Google Search ! Email Collection ! LinkedIn Leads Collection ! Excel Service ! Web Scraping ! Data Scraping ! Data Extraction ! Data Mining ! Data Processing * Shopify Product Listings & Editing CSV Bulk * Wordpress,WooCommerce Product Listings & Editing * Magento,Opencart,Product Listings & Editing', 'skills': 'Data EntryExcelData ProcessingWeb ScrapingWeb Search', 'rating': '4.9', 'reviews': '1342'} \n",
      "\n",
      "{'description': '✅ M*A*S. ✅ Top 2% on freelancer.com. ✅ I Love to Work with Clients. ✅ I have 10+ years of experience. ✅ Worked with MNC\\'s (Mercer, BT Group Plc & MetLife). ✅ Completed 600+ Projects Successfully. ✅ Provide Long term Services to clients. ✅ A Trusted Freelancer Highly Professional, 100% Accuracy, Quality Work, On Time Delivery, Data Security, Experienced Team, 100% Satisfaction end of the project. ✅ Data Operations & Admin Services: #Data Entry #Web Scraping #Email Searching #Web Research #Python #Rewrite Articles via ChatGPT (OpenAI\\'s or Openai.com) #Scrape County Websites for Deeds (Timeshare Owners - Mortgage) #Advance Excel formulas & function #Product Uploading - (WordPress, WooCommerce, Shopify, Magento, Amazon etc.) #Catalogue Menu Typing #Catalogue Categorization #Email Sending & Email Marketing #LinkedIn Data Entry #Handwritten Text Entry #PDF or Image to Excel #Typing & Transcribe #Copy & Paste #Data Processing #Admin Assistant #Word Formatting #Proofreading #PDF Conversion #Chat Support #Photoshop #Graphic Design #SEO #Document Marking Language #Image on FIGMA #Lexum - Legal Project and Case Document (Typing & Doc formatting) ✅ Fast, Accurate & On-time Delivery it\\'s my commitment. ✅ Give 100% for Work ✅ Your Trust is My Reward ✅ Available 24/7* ✅ Client Satisfaction is my \"MOTTO\". ✅ Thank you for visiting my profile, Looking forward to work with you.', 'skills': 'Data EntryWeb SearchData MiningPDFCopy Typing', 'rating': '5.0', 'reviews': '685'} \n",
      "\n",
      "{'description': \"Hi, I'm a versatile and experienced research writer, business expert, and freelancer with a proven track record of delivering high-quality results. With a 4.9-star rating and several positive reviews, I've established myself as a trusted and reliable partner for businesses and individuals alike. Research Writer: - Published articles in reputable databases such as ScienceDirect, Scopus, and others - Skilled in conducting in-depth research and analysis on various topics - Proficient in writing engaging and informative articles, reports, and research papers - Proficient in all types of referencing styles such as APA, MLA, IEEE, OSCOLA, Harvard etc Business & Financial Plan: - Experienced in crafting comprehensive business plans, financial reports, and company profiles -Financial Projections along with excel - Adept at market research, competitive analysis, financial modeling, and marketing strategy development - Proven ability to develop strategies for business growth and success SPSS: - Proficient in statistical analysis using SPSS software - Skilled in data analysis, interpretation, and visualization - Experienced in conducting statistical tests and analyzing results Data Analysis & Visualization: - Experienced in developing pitch decks and presentations for clients - Skilled in data manipulation and analysis using Excel - Proficient in creating interactive and dynamic graphical presentations Business Documents: - Expert in crafting company profiles, marketing plans, and business proposals - Skilled in writing executive summaries, market research reports, and feasibility studies - Proficient in developing business cases, pitch decks, and investor presentations Resume Writer: - Experienced in crafting high-impact resumes and cover letters - Skilled in highlighting client strengths and achievements - Proficient in developing tailored resumes for various industries and job roles I'm dedicated to delivering exceptional results and exceeding client expectations. I'm open to feedback and revisions, ensuring that the final product meets your needs. You can count on me to deliver high-quality work timely. Additionally, I offer tutoring services and editing/proofreading expertise to ensure that your documents are polished and error-free. Let's collaborate and drive success together!\", 'skills': 'Article WritingResearch WritingResearchAcademic WritingMarket Research', 'rating': '5.0', 'reviews': '5'} \n",
      "\n",
      "{'description': \"Hello, Welcome to eDATAEXPERT! We want to thank you for considering us for all your digital solution needs. Our team of 35 professionals is available 24 hours a day, 7 days a week, and is always ready to discuss whatever project you may need help with. Big or small, simple or complex, we are here for you! What services do we offer? Well, we have a long, robust list of skills and services, and here is a small list of some of the many available (do not hesitate to ask about anything you don't see listed here): * Data Entry * Web Scraping * Lead Generation * Microsoft Suite Projects &amp; Presentations * Google Sheets * PDF Editing &amp; Fillable Forms * Graphic Design * Virtual Assistance * Product Listing * Accounting * Bookkeeping * Web Development and Design * HTML * CSS * Bootstrap * Wordpress * Shopify * WooCommerce This entire list of services is available to all of our clients, and we stress that our team is large, experienced, and able to handle anything you could imagine within these digital solution services. Our team offers constant communication, strict deadlines that will always be met, and client-friendly budgets. We do our due diligence to ensure that we can do your project and that we do it properly. If you're interested in working with eDATAEXPERT, send us a message, and someone from our team will promptly reach out for an introductory consultation. We look forward to working with you!\", 'skills': 'Data EntryExcelPhotoshopPowerpointProduct Descriptions', 'rating': '4.9', 'reviews': '807'} \n",
      "\n",
      "{'description': 'Welcome to my profile page! My name is Temi, a data analyst, researcher, proofreader, and writer with more than 9 years of experience. I have a bachelor\\'s degree in Chemical Engineering and a master\\'s degree in Data Analysis and Statistics. I have written 1000+ research papers and performed QUALITATIVE and QUANTITATIVE analyses using SPSS, NVIVO, TABLEAU, COVIDENCE and other statistical tools. As you can see on my profile page, I have an AVERAGE REVIEW of 4.95 (★★★★★) stars from 95% of my clients. This means your chances of getting the best proofreading/writing /data analysis services are very high. I invite you to experience the same level of service that has generated such comments as “ Temi is a professional writer. I highly recommend him for any project on writing, data analysis and editing project.\" Below are the services I offer: ★ Proofreading/Editing ★ Data Analysis ★ Academic Writing ★ Research Writing ★ Report Writing ★ Content Writing ★ Internet Research ★ Articles/Blog Posts ★ Data Entry', 'skills': 'Research WritingProofreadingEditingGhostwritingData Entry', 'rating': '4.9', 'reviews': '299'} \n",
      "\n"
     ]
    }
   ],
   "source": [
    "elements = driver.find_elements(By.XPATH, \"//li[contains(@class, 'search-result-item search-result-item--user')]\")\n",
    "print(f\"nmper : {len(elements)}\")\n",
    "users = []\n",
    "for item in elements:\n",
    "    try:\n",
    "        description = item.find_element(By.XPATH, \".//p[contains(@class, 'info-card-description')]\").text.strip()\n",
    "    except:\n",
    "        description = \"N/A\" \n",
    "    try:\n",
    "        skills = item.find_element(By.XPATH, \".//div[contains(@class, 'info-card-skills')]\").text.strip()\n",
    "    except:\n",
    "        skills = \"N/A\"\n",
    "\n",
    "    try:\n",
    "        rating_element = item.find_element(By.XPATH, \".//div[contains(@class, 'Rating Rating--labeled info-card-rating')]\")\n",
    "        rating = rating_element.get_attribute('data-star_rating').strip()\n",
    "    except:\n",
    "        rating = \"N/A\"\n",
    "    \n",
    "\n",
    "    try:\n",
    "        reviews = item.find_element(By.XPATH, \".//span[contains(@class, 'Tooltip Tooltip--bottom')]\").text.strip().split(\" \")[-2]\n",
    "    except:\n",
    "        reviews = \"N/A\"\n",
    "\n",
    "\n",
    "    users.append({\n",
    "        \"description\": description,\n",
    "        \"skills\": skills,\n",
    "        \"rating\": rating,\n",
    "        \"reviews\": reviews[1:],\n",
    "            \n",
    "\n",
    "                \n",
    "        })\n",
    "    \n",
    "\n",
    "\n",
    "for user in users:\n",
    "    print(user,\"\\n\")"
   ]
  },
  {
   "cell_type": "code",
   "execution_count": null,
   "metadata": {},
   "outputs": [],
   "source": []
  }
 ],
 "metadata": {
  "kernelspec": {
   "display_name": "Python 3",
   "language": "python",
   "name": "python3"
  },
  "language_info": {
   "codemirror_mode": {
    "name": "ipython",
    "version": 3
   },
   "file_extension": ".py",
   "mimetype": "text/x-python",
   "name": "python",
   "nbconvert_exporter": "python",
   "pygments_lexer": "ipython3",
   "version": "3.10.0"
  }
 },
 "nbformat": 4,
 "nbformat_minor": 2
}
